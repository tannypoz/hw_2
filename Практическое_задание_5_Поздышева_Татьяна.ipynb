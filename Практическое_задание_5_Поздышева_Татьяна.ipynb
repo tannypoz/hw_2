{
  "nbformat": 4,
  "nbformat_minor": 0,
  "metadata": {
    "colab": {
      "provenance": []
    },
    "kernelspec": {
      "name": "python3",
      "display_name": "Python 3"
    },
    "language_info": {
      "name": "python"
    }
  },
  "cells": [
    {
      "cell_type": "markdown",
      "source": [
        "# **1 часть**"
      ],
      "metadata": {
        "id": "_KbQD34WkV81"
      }
    },
    {
      "cell_type": "markdown",
      "source": [
        "Считайте датасет из файла train.csv (это данные о выживаемости на Титанике) с помощью polars"
      ],
      "metadata": {
        "id": "H-DelYKNixed"
      }
    },
    {
      "cell_type": "code",
      "source": [
        "!pip install polars\n",
        "import polars as pl"
      ],
      "metadata": {
        "colab": {
          "base_uri": "https://localhost:8080/"
        },
        "id": "18p7SMhHi5qt",
        "outputId": "d77638c4-c5bb-439b-a204-e1ef711bb7f0"
      },
      "execution_count": 2,
      "outputs": [
        {
          "output_type": "stream",
          "name": "stdout",
          "text": [
            "Requirement already satisfied: polars in /usr/local/lib/python3.11/dist-packages (1.21.0)\n"
          ]
        }
      ]
    },
    {
      "cell_type": "code",
      "execution_count": 3,
      "metadata": {
        "colab": {
          "base_uri": "https://localhost:8080/"
        },
        "id": "yzyTESt5inKn",
        "outputId": "3993c123-78b9-42d4-c84d-29d9263fa09f"
      },
      "outputs": [
        {
          "output_type": "stream",
          "name": "stdout",
          "text": [
            "shape: (5, 12)\n",
            "┌─────────────┬──────────┬────────┬───────────────────┬───┬───────────┬─────────┬───────┬──────────┐\n",
            "│ PassengerId ┆ Survived ┆ Pclass ┆ Name              ┆ … ┆ Ticket    ┆ Fare    ┆ Cabin ┆ Embarked │\n",
            "│ ---         ┆ ---      ┆ ---    ┆ ---               ┆   ┆ ---       ┆ ---     ┆ ---   ┆ ---      │\n",
            "│ i64         ┆ i64      ┆ i64    ┆ str               ┆   ┆ str       ┆ f64     ┆ str   ┆ str      │\n",
            "╞═════════════╪══════════╪════════╪═══════════════════╪═══╪═══════════╪═════════╪═══════╪══════════╡\n",
            "│ 1           ┆ 0        ┆ 3      ┆ Braund, Mr. Owen  ┆ … ┆ A/5 21171 ┆ 7.25    ┆ null  ┆ S        │\n",
            "│             ┆          ┆        ┆ Harris            ┆   ┆           ┆         ┆       ┆          │\n",
            "│ 2           ┆ 1        ┆ 1      ┆ Cumings, Mrs.     ┆ … ┆ PC 17599  ┆ 71.2833 ┆ C85   ┆ C        │\n",
            "│             ┆          ┆        ┆ John Bradley (Fl… ┆   ┆           ┆         ┆       ┆          │\n",
            "│ 3           ┆ 1        ┆ 3      ┆ Heikkinen, Miss.  ┆ … ┆ STON/O2.  ┆ 7.925   ┆ null  ┆ S        │\n",
            "│             ┆          ┆        ┆ Laina             ┆   ┆ 3101282   ┆         ┆       ┆          │\n",
            "│ 4           ┆ 1        ┆ 1      ┆ Futrelle, Mrs.    ┆ … ┆ 113803    ┆ 53.1    ┆ C123  ┆ S        │\n",
            "│             ┆          ┆        ┆ Jacques Heath (…  ┆   ┆           ┆         ┆       ┆          │\n",
            "│ 5           ┆ 0        ┆ 3      ┆ Allen, Mr.        ┆ … ┆ 373450    ┆ 8.05    ┆ null  ┆ S        │\n",
            "│             ┆          ┆        ┆ William Henry     ┆   ┆           ┆         ┆       ┆          │\n",
            "└─────────────┴──────────┴────────┴───────────────────┴───┴───────────┴─────────┴───────┴──────────┘\n"
          ]
        }
      ],
      "source": [
        "# Загрузка датасета\n",
        "data = pl.read_csv('train.csv')\n",
        "\n",
        "# Вывод первых 5 строк для проверки\n",
        "print(data.head())"
      ]
    },
    {
      "cell_type": "markdown",
      "source": [
        "Выведите основную информацию о датасете: информацию о типах данных, число пропусков, средние значения и т.д.\n",
        "hint: используйте методы и атрибуты датафрейма: describe(), dtypes, null_count(), mean()..."
      ],
      "metadata": {
        "id": "YB7dgT3jjB_N"
      }
    },
    {
      "cell_type": "code",
      "source": [
        "# Типы данных в колонках\n",
        "print(\"Типы данных в колонках:\")\n",
        "print(data.dtypes)"
      ],
      "metadata": {
        "colab": {
          "base_uri": "https://localhost:8080/"
        },
        "id": "faqlsc74jCsl",
        "outputId": "1fef3cf2-c426-4599-9896-1fec6e4d282e"
      },
      "execution_count": 4,
      "outputs": [
        {
          "output_type": "stream",
          "name": "stdout",
          "text": [
            "Типы данных в колонках:\n",
            "[Int64, Int64, Int64, String, String, Float64, Int64, Int64, String, Float64, String, String]\n"
          ]
        }
      ]
    },
    {
      "cell_type": "code",
      "source": [
        "# Основная статистика по числовым колонкам\n",
        "print(\"\\nОсновные статистические показатели:\")\n",
        "print(data.describe())"
      ],
      "metadata": {
        "colab": {
          "base_uri": "https://localhost:8080/"
        },
        "id": "exwrzykTjKpm",
        "outputId": "fc564301-c3f3-4898-acaf-c736af7b91d2"
      },
      "execution_count": 5,
      "outputs": [
        {
          "output_type": "stream",
          "name": "stdout",
          "text": [
            "\n",
            "Основные статистические показатели:\n",
            "shape: (9, 13)\n",
            "┌────────────┬─────────────┬──────────┬──────────┬───┬───────────┬───────────┬───────┬──────────┐\n",
            "│ statistic  ┆ PassengerId ┆ Survived ┆ Pclass   ┆ … ┆ Ticket    ┆ Fare      ┆ Cabin ┆ Embarked │\n",
            "│ ---        ┆ ---         ┆ ---      ┆ ---      ┆   ┆ ---       ┆ ---       ┆ ---   ┆ ---      │\n",
            "│ str        ┆ f64         ┆ f64      ┆ f64      ┆   ┆ str       ┆ f64       ┆ str   ┆ str      │\n",
            "╞════════════╪═════════════╪══════════╪══════════╪═══╪═══════════╪═══════════╪═══════╪══════════╡\n",
            "│ count      ┆ 891.0       ┆ 891.0    ┆ 891.0    ┆ … ┆ 891       ┆ 891.0     ┆ 204   ┆ 889      │\n",
            "│ null_count ┆ 0.0         ┆ 0.0      ┆ 0.0      ┆ … ┆ 0         ┆ 0.0       ┆ 687   ┆ 2        │\n",
            "│ mean       ┆ 446.0       ┆ 0.383838 ┆ 2.308642 ┆ … ┆ null      ┆ 32.204208 ┆ null  ┆ null     │\n",
            "│ std        ┆ 257.353842  ┆ 0.486592 ┆ 0.836071 ┆ … ┆ null      ┆ 49.693429 ┆ null  ┆ null     │\n",
            "│ min        ┆ 1.0         ┆ 0.0      ┆ 1.0      ┆ … ┆ 110152    ┆ 0.0       ┆ A10   ┆ C        │\n",
            "│ 25%        ┆ 224.0       ┆ 0.0      ┆ 2.0      ┆ … ┆ null      ┆ 7.925     ┆ null  ┆ null     │\n",
            "│ 50%        ┆ 446.0       ┆ 0.0      ┆ 3.0      ┆ … ┆ null      ┆ 14.4542   ┆ null  ┆ null     │\n",
            "│ 75%        ┆ 669.0       ┆ 1.0      ┆ 3.0      ┆ … ┆ null      ┆ 31.0      ┆ null  ┆ null     │\n",
            "│ max        ┆ 891.0       ┆ 1.0      ┆ 3.0      ┆ … ┆ WE/P 5735 ┆ 512.3292  ┆ T     ┆ S        │\n",
            "└────────────┴─────────────┴──────────┴──────────┴───┴───────────┴───────────┴───────┴──────────┘\n"
          ]
        }
      ]
    },
    {
      "cell_type": "code",
      "source": [
        "# Информация о пропусках\n",
        "print(\"\\nКоличество пропусков в каждой колонке:\")\n",
        "print(data.null_count())"
      ],
      "metadata": {
        "colab": {
          "base_uri": "https://localhost:8080/"
        },
        "id": "ni458RzXjMbe",
        "outputId": "982fb86d-5b2d-4532-e09a-88fc5ce765b8"
      },
      "execution_count": 6,
      "outputs": [
        {
          "output_type": "stream",
          "name": "stdout",
          "text": [
            "\n",
            "Количество пропусков в каждой колонке:\n",
            "shape: (1, 12)\n",
            "┌─────────────┬──────────┬────────┬──────┬───┬────────┬──────┬───────┬──────────┐\n",
            "│ PassengerId ┆ Survived ┆ Pclass ┆ Name ┆ … ┆ Ticket ┆ Fare ┆ Cabin ┆ Embarked │\n",
            "│ ---         ┆ ---      ┆ ---    ┆ ---  ┆   ┆ ---    ┆ ---  ┆ ---   ┆ ---      │\n",
            "│ u32         ┆ u32      ┆ u32    ┆ u32  ┆   ┆ u32    ┆ u32  ┆ u32   ┆ u32      │\n",
            "╞═════════════╪══════════╪════════╪══════╪═══╪════════╪══════╪═══════╪══════════╡\n",
            "│ 0           ┆ 0        ┆ 0      ┆ 0    ┆ … ┆ 0      ┆ 0    ┆ 687   ┆ 2        │\n",
            "└─────────────┴──────────┴────────┴──────┴───┴────────┴──────┴───────┴──────────┘\n"
          ]
        }
      ]
    },
    {
      "cell_type": "code",
      "source": [
        "# Средние значения (mean) для нужных колонок\n",
        "print(\"\\nСредние значения по некоторым ключевым колонкам:\")\n",
        "print(data.select(pl.mean('Age'), pl.mean('Fare')))"
      ],
      "metadata": {
        "colab": {
          "base_uri": "https://localhost:8080/"
        },
        "id": "w9Md5LLgjOLn",
        "outputId": "397541ce-01ea-4ce2-83f0-2808f44eeb9e"
      },
      "execution_count": 7,
      "outputs": [
        {
          "output_type": "stream",
          "name": "stdout",
          "text": [
            "\n",
            "Средние значения по некоторым ключевым колонкам:\n",
            "shape: (1, 2)\n",
            "┌───────────┬───────────┐\n",
            "│ Age       ┆ Fare      │\n",
            "│ ---       ┆ ---       │\n",
            "│ f64       ┆ f64       │\n",
            "╞═══════════╪═══════════╡\n",
            "│ 29.699118 ┆ 32.204208 │\n",
            "└───────────┴───────────┘\n"
          ]
        }
      ]
    },
    {
      "cell_type": "markdown",
      "source": [
        "Посчитайте количество пассажиров каждого класса (Pclass)\n",
        "hint: используйте методы: get_column(), value_counts()..."
      ],
      "metadata": {
        "id": "4S0f68DnjU_u"
      }
    },
    {
      "cell_type": "code",
      "source": [
        "# Получаем количество пассажиров каждого класса\n",
        "passengers_by_class = data.get_column('Pclass').value_counts()"
      ],
      "metadata": {
        "id": "04uSxoCFjWKm"
      },
      "execution_count": 8,
      "outputs": []
    },
    {
      "cell_type": "code",
      "source": [
        "# Выводим результат\n",
        "print(passengers_by_class)"
      ],
      "metadata": {
        "colab": {
          "base_uri": "https://localhost:8080/"
        },
        "id": "gq7K5yhrjjGF",
        "outputId": "2f32275c-3839-4913-a230-9ca9fdc7fd25"
      },
      "execution_count": 9,
      "outputs": [
        {
          "output_type": "stream",
          "name": "stdout",
          "text": [
            "shape: (3, 2)\n",
            "┌────────┬───────┐\n",
            "│ Pclass ┆ count │\n",
            "│ ---    ┆ ---   │\n",
            "│ i64    ┆ u32   │\n",
            "╞════════╪═══════╡\n",
            "│ 3      ┆ 491   │\n",
            "│ 1      ┆ 216   │\n",
            "│ 2      ┆ 184   │\n",
            "└────────┴───────┘\n"
          ]
        }
      ]
    },
    {
      "cell_type": "markdown",
      "source": [
        "Выведите количество выживших мужчин и женщин на корабле\n",
        "hint: используйте методы: groupby(), agg(), pl.col(), sum()..."
      ],
      "metadata": {
        "id": "V6AweIQ6jj9N"
      }
    },
    {
      "cell_type": "code",
      "source": [
        "# Группируем по полу и считаем количество выживших\n",
        "survivors_by_sex = data.group_by('Sex').agg([\n",
        "    pl.sum('Survived').alias('Количество выживших')\n",
        "])"
      ],
      "metadata": {
        "id": "MV81xb4AjmUV"
      },
      "execution_count": 11,
      "outputs": []
    },
    {
      "cell_type": "code",
      "source": [
        "# Выводим результат\n",
        "print(survivors_by_sex)"
      ],
      "metadata": {
        "colab": {
          "base_uri": "https://localhost:8080/"
        },
        "id": "VttKhXA_kCdd",
        "outputId": "b790416c-82f3-44ab-9fce-49de08714dfa"
      },
      "execution_count": 12,
      "outputs": [
        {
          "output_type": "stream",
          "name": "stdout",
          "text": [
            "shape: (2, 2)\n",
            "┌────────┬─────────────────────┐\n",
            "│ Sex    ┆ Количество выживших │\n",
            "│ ---    ┆ ---                 │\n",
            "│ str    ┆ i64                 │\n",
            "╞════════╪═════════════════════╡\n",
            "│ male   ┆ 109                 │\n",
            "│ female ┆ 233                 │\n",
            "└────────┴─────────────────────┘\n"
          ]
        }
      ]
    },
    {
      "cell_type": "markdown",
      "source": [
        "Выведите часть таблицы с пассажирами, возраст которых больше 44 лет\n",
        "hint: используйте методы: filter(), pl.col()..."
      ],
      "metadata": {
        "id": "tLG-B2MXkDdm"
      }
    },
    {
      "cell_type": "code",
      "source": [
        "# Фильтрация по возрасту > 44 лет\n",
        "old_passengers = data.filter(pl.col('Age') > 44)"
      ],
      "metadata": {
        "id": "EvF_YyZVkFuV"
      },
      "execution_count": 13,
      "outputs": []
    },
    {
      "cell_type": "code",
      "source": [
        "# Выводим результат\n",
        "print(old_passengers)"
      ],
      "metadata": {
        "colab": {
          "base_uri": "https://localhost:8080/"
        },
        "id": "1xi6-05ikMpN",
        "outputId": "5097fe3f-8128-4379-f629-7a3afb28d60a"
      },
      "execution_count": 14,
      "outputs": [
        {
          "output_type": "stream",
          "name": "stdout",
          "text": [
            "shape: (115, 12)\n",
            "┌─────────────┬──────────┬────────┬──────────────────┬───┬────────────┬─────────┬───────┬──────────┐\n",
            "│ PassengerId ┆ Survived ┆ Pclass ┆ Name             ┆ … ┆ Ticket     ┆ Fare    ┆ Cabin ┆ Embarked │\n",
            "│ ---         ┆ ---      ┆ ---    ┆ ---              ┆   ┆ ---        ┆ ---     ┆ ---   ┆ ---      │\n",
            "│ i64         ┆ i64      ┆ i64    ┆ str              ┆   ┆ str        ┆ f64     ┆ str   ┆ str      │\n",
            "╞═════════════╪══════════╪════════╪══════════════════╪═══╪════════════╪═════════╪═══════╪══════════╡\n",
            "│ 7           ┆ 0        ┆ 1      ┆ McCarthy, Mr.    ┆ … ┆ 17463      ┆ 51.8625 ┆ E46   ┆ S        │\n",
            "│             ┆          ┆        ┆ Timothy J        ┆   ┆            ┆         ┆       ┆          │\n",
            "│ 12          ┆ 1        ┆ 1      ┆ Bonnell, Miss.   ┆ … ┆ 113783     ┆ 26.55   ┆ C103  ┆ S        │\n",
            "│             ┆          ┆        ┆ Elizabeth        ┆   ┆            ┆         ┆       ┆          │\n",
            "│ 16          ┆ 1        ┆ 2      ┆ Hewlett, Mrs.    ┆ … ┆ 248706     ┆ 16.0    ┆ null  ┆ S        │\n",
            "│             ┆          ┆        ┆ (Mary D          ┆   ┆            ┆         ┆       ┆          │\n",
            "│             ┆          ┆        ┆ Kingcome…        ┆   ┆            ┆         ┆       ┆          │\n",
            "│ 34          ┆ 0        ┆ 2      ┆ Wheadon, Mr.     ┆ … ┆ C.A. 24579 ┆ 10.5    ┆ null  ┆ S        │\n",
            "│             ┆          ┆        ┆ Edward H         ┆   ┆            ┆         ┆       ┆          │\n",
            "│ 53          ┆ 1        ┆ 1      ┆ Harper, Mrs.     ┆ … ┆ PC 17572   ┆ 76.7292 ┆ D33   ┆ C        │\n",
            "│             ┆          ┆        ┆ Henry Sleeper    ┆   ┆            ┆         ┆       ┆          │\n",
            "│             ┆          ┆        ┆ (My…             ┆   ┆            ┆         ┆       ┆          │\n",
            "│ …           ┆ …        ┆ …      ┆ …                ┆ … ┆ …          ┆ …       ┆ …     ┆ …        │\n",
            "│ 858         ┆ 1        ┆ 1      ┆ Daly, Mr. Peter  ┆ … ┆ 113055     ┆ 26.55   ┆ E17   ┆ S        │\n",
            "│             ┆          ┆        ┆ Denis            ┆   ┆            ┆         ┆       ┆          │\n",
            "│ 863         ┆ 1        ┆ 1      ┆ Swift, Mrs.      ┆ … ┆ 17466      ┆ 25.9292 ┆ D17   ┆ S        │\n",
            "│             ┆          ┆        ┆ Frederick Joel   ┆   ┆            ┆         ┆       ┆          │\n",
            "│             ┆          ┆        ┆ (Ma…             ┆   ┆            ┆         ┆       ┆          │\n",
            "│ 872         ┆ 1        ┆ 1      ┆ Beckwith, Mrs.   ┆ … ┆ 11751      ┆ 52.5542 ┆ D35   ┆ S        │\n",
            "│             ┆          ┆        ┆ Richard Leonard… ┆   ┆            ┆         ┆       ┆          │\n",
            "│ 874         ┆ 0        ┆ 3      ┆ Vander Cruyssen, ┆ … ┆ 345765     ┆ 9.0     ┆ null  ┆ S        │\n",
            "│             ┆          ┆        ┆ Mr. Victor       ┆   ┆            ┆         ┆       ┆          │\n",
            "│ 880         ┆ 1        ┆ 1      ┆ Potter, Mrs.     ┆ … ┆ 11767      ┆ 83.1583 ┆ C50   ┆ C        │\n",
            "│             ┆          ┆        ┆ Thomas Jr (Lily  ┆   ┆            ┆         ┆       ┆          │\n",
            "│             ┆          ┆        ┆ A…               ┆   ┆            ┆         ┆       ┆          │\n",
            "└─────────────┴──────────┴────────┴──────────────────┴───┴────────────┴─────────┴───────┴──────────┘\n"
          ]
        }
      ]
    },
    {
      "cell_type": "markdown",
      "source": [
        "# **2 часть**"
      ],
      "metadata": {
        "id": "E6fp__FAkeHw"
      }
    },
    {
      "cell_type": "markdown",
      "source": [
        "Считайте датасет из файла train.csv (это данные о выживаемости на Титанике) с помощью pandas"
      ],
      "metadata": {
        "id": "cWFkNRLVkOpF"
      }
    },
    {
      "cell_type": "code",
      "source": [
        "import pandas as pd\n",
        "import numpy as np\n",
        "import bottleneck as bn"
      ],
      "metadata": {
        "id": "q79HIfB_khB9"
      },
      "execution_count": 18,
      "outputs": []
    },
    {
      "cell_type": "code",
      "source": [
        "# Загрузка датасета\n",
        "data = pd.read_csv('train.csv')"
      ],
      "metadata": {
        "id": "EjQ1cAQRkxtW"
      },
      "execution_count": 16,
      "outputs": []
    },
    {
      "cell_type": "code",
      "source": [
        "# Просмотрим первые несколько строк\n",
        "print(data.head())"
      ],
      "metadata": {
        "colab": {
          "base_uri": "https://localhost:8080/"
        },
        "id": "gaRtHGl3k05l",
        "outputId": "24b923dc-0f08-4ebe-82bd-7d9a5ef32169"
      },
      "execution_count": 17,
      "outputs": [
        {
          "output_type": "stream",
          "name": "stdout",
          "text": [
            "   PassengerId  Survived  Pclass  \\\n",
            "0            1         0       3   \n",
            "1            2         1       1   \n",
            "2            3         1       3   \n",
            "3            4         1       1   \n",
            "4            5         0       3   \n",
            "\n",
            "                                                Name     Sex   Age  SibSp  \\\n",
            "0                            Braund, Mr. Owen Harris    male  22.0      1   \n",
            "1  Cumings, Mrs. John Bradley (Florence Briggs Th...  female  38.0      1   \n",
            "2                             Heikkinen, Miss. Laina  female  26.0      0   \n",
            "3       Futrelle, Mrs. Jacques Heath (Lily May Peel)  female  35.0      1   \n",
            "4                           Allen, Mr. William Henry    male  35.0      0   \n",
            "\n",
            "   Parch            Ticket     Fare Cabin Embarked  \n",
            "0      0         A/5 21171   7.2500   NaN        S  \n",
            "1      0          PC 17599  71.2833   C85        C  \n",
            "2      0  STON/O2. 3101282   7.9250   NaN        S  \n",
            "3      0            113803  53.1000  C123        S  \n",
            "4      0            373450   8.0500   NaN        S  \n"
          ]
        }
      ]
    },
    {
      "cell_type": "markdown",
      "source": [
        "Посчитайте средний возраст пассажиров и его стандартное отклонение с помощью bottleneck\n",
        "hint: используйте методы: bn.nanmean(), bn.nanstd()"
      ],
      "metadata": {
        "id": "JcZzz8Oek5XV"
      }
    },
    {
      "cell_type": "code",
      "source": [
        "# Преобразуем колонку \"Age\" в Numpy-массив\n",
        "ages_array = data['Age'].to_numpy()"
      ],
      "metadata": {
        "id": "VV43R-RHk4-d"
      },
      "execution_count": 19,
      "outputs": []
    },
    {
      "cell_type": "code",
      "source": [
        "# Рассчитываем средний возраст и стандартное отклонение с помощью bottleneck\n",
        "average_age = bn.nanmean(ages_array)\n",
        "age_std_deviation = bn.nanstd(ages_array)"
      ],
      "metadata": {
        "id": "P_Sk0RbwlF9G"
      },
      "execution_count": 20,
      "outputs": []
    },
    {
      "cell_type": "code",
      "source": [
        "# Выводим результаты\n",
        "print(f\"Средний возраст пассажиров: {average_age:.2f}\")\n",
        "print(f\"Стандартное отклонение возраста: {age_std_deviation:.2f}\")"
      ],
      "metadata": {
        "colab": {
          "base_uri": "https://localhost:8080/"
        },
        "id": "BnFNIVSQlHY9",
        "outputId": "e56bdeca-17e4-48f4-c8ce-b63c300eb79d"
      },
      "execution_count": 21,
      "outputs": [
        {
          "output_type": "stream",
          "name": "stdout",
          "text": [
            "Средний возраст пассажиров: 29.70\n",
            "Стандартное отклонение возраста: 14.52\n"
          ]
        }
      ]
    },
    {
      "cell_type": "markdown",
      "source": [
        "Для каждого пассажира умножьте значение столбца Fare на 1.3 и сохраните результаты как новый столбец Fare_new\n",
        "hint: используйте методы: .itertuples() или apply()"
      ],
      "metadata": {
        "id": "OZ4BE-FBlKrt"
      }
    },
    {
      "cell_type": "code",
      "source": [
        "# Умножаем значения в столбце Fare на 1.3 и создаем новый столбец Fare_new\n",
        "data['Fare_new'] = data['Fare'] * 1.3"
      ],
      "metadata": {
        "id": "a0hB49vUlLn-"
      },
      "execution_count": 22,
      "outputs": []
    },
    {
      "cell_type": "code",
      "source": [
        "# Выводим обновленный датасет\n",
        "print(data.head())"
      ],
      "metadata": {
        "colab": {
          "base_uri": "https://localhost:8080/"
        },
        "id": "vtizSKK3latl",
        "outputId": "2e7e0e13-dd46-4024-f20a-0ebe71550086"
      },
      "execution_count": 23,
      "outputs": [
        {
          "output_type": "stream",
          "name": "stdout",
          "text": [
            "   PassengerId  Survived  Pclass  \\\n",
            "0            1         0       3   \n",
            "1            2         1       1   \n",
            "2            3         1       3   \n",
            "3            4         1       1   \n",
            "4            5         0       3   \n",
            "\n",
            "                                                Name     Sex   Age  SibSp  \\\n",
            "0                            Braund, Mr. Owen Harris    male  22.0      1   \n",
            "1  Cumings, Mrs. John Bradley (Florence Briggs Th...  female  38.0      1   \n",
            "2                             Heikkinen, Miss. Laina  female  26.0      0   \n",
            "3       Futrelle, Mrs. Jacques Heath (Lily May Peel)  female  35.0      1   \n",
            "4                           Allen, Mr. William Henry    male  35.0      0   \n",
            "\n",
            "   Parch            Ticket     Fare Cabin Embarked  Fare_new  \n",
            "0      0         A/5 21171   7.2500   NaN        S   9.42500  \n",
            "1      0          PC 17599  71.2833   C85        C  92.66829  \n",
            "2      0  STON/O2. 3101282   7.9250   NaN        S  10.30250  \n",
            "3      0            113803  53.1000  C123        S  69.03000  \n",
            "4      0            373450   8.0500   NaN        S  10.46500  \n"
          ]
        }
      ]
    },
    {
      "cell_type": "markdown",
      "source": [
        "# **3 часть**"
      ],
      "metadata": {
        "id": "vTOoybo3lgBV"
      }
    },
    {
      "cell_type": "markdown",
      "source": [
        "Считайте датасет из файла Housing.csv (это данные о ценах домов) с помощью pandas"
      ],
      "metadata": {
        "id": "eou20sG7lh5c"
      }
    },
    {
      "cell_type": "code",
      "source": [
        "# Загрузка датасета\n",
        "data = pd.read_csv('Housing.csv')"
      ],
      "metadata": {
        "id": "cjFdcsW1lkjc"
      },
      "execution_count": 37,
      "outputs": []
    },
    {
      "cell_type": "code",
      "source": [
        "# Просмотрите первые несколько строк датасета\n",
        "print(data.head())"
      ],
      "metadata": {
        "colab": {
          "base_uri": "https://localhost:8080/"
        },
        "id": "01qI9AfIl8E1",
        "outputId": "693b9dc4-d0ec-47a5-fe5b-8db936537699"
      },
      "execution_count": 38,
      "outputs": [
        {
          "output_type": "stream",
          "name": "stdout",
          "text": [
            "      price  area  bedrooms  bathrooms  stories mainroad guestroom basement  \\\n",
            "0  13300000  7420         4          2        3      yes        no       no   \n",
            "1  12250000  8960         4          4        4      yes        no       no   \n",
            "2  12250000  9960         3          2        2      yes        no      yes   \n",
            "3  12215000  7500         4          2        2      yes        no      yes   \n",
            "4  11410000  7420         4          1        2      yes       yes      yes   \n",
            "\n",
            "  hotwaterheating airconditioning  parking prefarea furnishingstatus  \n",
            "0              no             yes        2      yes        furnished  \n",
            "1              no             yes        3       no        furnished  \n",
            "2              no              no        2      yes   semi-furnished  \n",
            "3              no             yes        3      yes        furnished  \n",
            "4              no             yes        2       no        furnished  \n"
          ]
        }
      ]
    },
    {
      "cell_type": "markdown",
      "source": [
        "Для каждого столбца определите оптимальный с точки зрения потребления памяти тип данных - напишите свои выводы в комментариях\n",
        "\n",
        "Поменяйте типы данных столбцов датафрейма на выбранные вами в прошлом пункте и сравните потребление памяти до и после оптимизации"
      ],
      "metadata": {
        "id": "DZaJvxV0mA0_"
      }
    },
    {
      "cell_type": "code",
      "source": [
        "print(data.info())"
      ],
      "metadata": {
        "colab": {
          "base_uri": "https://localhost:8080/"
        },
        "id": "2DDgwn9OmxDd",
        "outputId": "593d816d-5c93-445f-ab0c-97106b8ecb97"
      },
      "execution_count": 39,
      "outputs": [
        {
          "output_type": "stream",
          "name": "stdout",
          "text": [
            "<class 'pandas.core.frame.DataFrame'>\n",
            "RangeIndex: 545 entries, 0 to 544\n",
            "Data columns (total 13 columns):\n",
            " #   Column            Non-Null Count  Dtype \n",
            "---  ------            --------------  ----- \n",
            " 0   price             545 non-null    int64 \n",
            " 1   area              545 non-null    int64 \n",
            " 2   bedrooms          545 non-null    int64 \n",
            " 3   bathrooms         545 non-null    int64 \n",
            " 4   stories           545 non-null    int64 \n",
            " 5   mainroad          545 non-null    object\n",
            " 6   guestroom         545 non-null    object\n",
            " 7   basement          545 non-null    object\n",
            " 8   hotwaterheating   545 non-null    object\n",
            " 9   airconditioning   545 non-null    object\n",
            " 10  parking           545 non-null    int64 \n",
            " 11  prefarea          545 non-null    object\n",
            " 12  furnishingstatus  545 non-null    object\n",
            "dtypes: int64(6), object(7)\n",
            "memory usage: 55.5+ KB\n",
            "None\n"
          ]
        }
      ]
    },
    {
      "cell_type": "markdown",
      "source": [
        "* Price: Цена недвижимости (тип данных — числовой, большой диапазон значений).\n",
        "* Area: Площадь недвижимости (целочисленная переменная).\n",
        "* Bedrooms: Количество спален (маленькие целые числа).\n",
        "* Bathrooms: Количество санузлов (малые целые числа).\n",
        "* Stories: Количество этажей (маленькие целые числа).\n",
        "* Mainroad: Близость к главной дороге (строковый тип, бинарная переменная).\n",
        "* Guestroom: Присутствие гостиной комнаты (строковый тип, бинарная переменная).\n",
        "* Basement: Есть ли подвал (строковый тип, бинарная переменная).\n",
        "* Hotwaterheating: Горячая вода централизованно (строковый тип, бинарная переменная).\n",
        "* Airconditioning: Кондиционирование воздуха (строковый тип, бинарная переменная).\n",
        "* Parking: Количество парковочных мест (целочисленное).\n",
        "* Prefarea: Предпочтительная область (строковый тип, вероятно категориальный).\n",
        "* Furnishingstatus: Оснащенность мебелью (строковый тип, категориальный)."
      ],
      "metadata": {
        "id": "acR9eUY7oXzk"
      }
    },
    {
      "cell_type": "markdown",
      "source": [
        "* Числовые столбцы:\n",
        "  * Price: Цены большие, но вряд ли нужны сверхточные вычисления. Тип данных можно оставить int64 или перейти на int32.\n",
        "  * Area: Целочисленные площади домов, небольшой диапазон. Подходит тип int32 или даже int16.\n",
        "  * Bedrooms, Bathrooms, Stories, Parking: Маленькие целые числа, подходят типы int8 или uint8 (unsigned integer).\n",
        "* Категориальные столбцы:\n",
        "  * Mainroad, Guestroom, Basement, Hotwaterheating, Airconditioning: Все эти столбцы бинарные (\"yes/no\"). Их лучше превратить в тип bool или, если сохранять оригинальную форму, в тип category.\n",
        "  * Prefarea:  категориальная переменная. Ее можно привести к типу category.\n",
        "  * Furnishingstatus:  категориальная переменная, тип данных можно поменять на category."
      ],
      "metadata": {
        "id": "51iEf5_uoi8d"
      }
    },
    {
      "cell_type": "code",
      "source": [
        "# Проверка текущего расхода памяти\n",
        "print(\"Первоначальное потребление памяти:\", data.memory_usage(deep=True).sum() / 1024, \"KB\")"
      ],
      "metadata": {
        "colab": {
          "base_uri": "https://localhost:8080/"
        },
        "id": "oyeoRZBkpfi2",
        "outputId": "41b9ba9c-0d66-4246-a1ac-dd68d6b466d5"
      },
      "execution_count": 40,
      "outputs": [
        {
          "output_type": "stream",
          "name": "stdout",
          "text": [
            "Первоначальное потребление памяти: 251.72265625 KB\n"
          ]
        }
      ]
    },
    {
      "cell_type": "code",
      "source": [
        "# Преобразование числовых столбцов\n",
        "data['price'] = data['price'].astype('int32')\n",
        "data['area'] = data['area'].astype('int32')\n",
        "data['bedrooms'] = data['bedrooms'].astype('int8')\n",
        "data['bathrooms'] = data['bathrooms'].astype('int8')\n",
        "data['stories'] = data['stories'].astype('int8')\n",
        "data['parking'] = data['parking'].astype('int8')"
      ],
      "metadata": {
        "id": "K3c7b5LeneYe"
      },
      "execution_count": 41,
      "outputs": []
    },
    {
      "cell_type": "code",
      "source": [
        "# Преобразование категориальных и бинарных столбцов\n",
        "data['mainroad'] = data['mainroad'].astype('category')\n",
        "data['guestroom'] = data['guestroom'].astype('category')\n",
        "data['basement'] = data['basement'].astype('category')\n",
        "data['hotwaterheating'] = data['hotwaterheating'].astype('category')\n",
        "data['airconditioning'] = data['airconditioning'].astype('category')\n",
        "data['prefarea'] = data['prefarea'].astype('category')\n",
        "data['furnishingstatus'] = data['furnishingstatus'].astype('category')"
      ],
      "metadata": {
        "id": "HwsXUNWUngF9"
      },
      "execution_count": 42,
      "outputs": []
    },
    {
      "cell_type": "code",
      "source": [
        "# Проверка новой структуры\n",
        "print(data.info())"
      ],
      "metadata": {
        "colab": {
          "base_uri": "https://localhost:8080/"
        },
        "id": "145G2vROnlEl",
        "outputId": "2b44590e-2293-46a9-f471-2ee29be6fb4c"
      },
      "execution_count": 43,
      "outputs": [
        {
          "output_type": "stream",
          "name": "stdout",
          "text": [
            "<class 'pandas.core.frame.DataFrame'>\n",
            "RangeIndex: 545 entries, 0 to 544\n",
            "Data columns (total 13 columns):\n",
            " #   Column            Non-Null Count  Dtype   \n",
            "---  ------            --------------  -----   \n",
            " 0   price             545 non-null    int32   \n",
            " 1   area              545 non-null    int32   \n",
            " 2   bedrooms          545 non-null    int8    \n",
            " 3   bathrooms         545 non-null    int8    \n",
            " 4   stories           545 non-null    int8    \n",
            " 5   mainroad          545 non-null    category\n",
            " 6   guestroom         545 non-null    category\n",
            " 7   basement          545 non-null    category\n",
            " 8   hotwaterheating   545 non-null    category\n",
            " 9   airconditioning   545 non-null    category\n",
            " 10  parking           545 non-null    int8    \n",
            " 11  prefarea          545 non-null    category\n",
            " 12  furnishingstatus  545 non-null    category\n",
            "dtypes: category(7), int32(2), int8(4)\n",
            "memory usage: 11.1 KB\n",
            "None\n"
          ]
        }
      ]
    },
    {
      "cell_type": "code",
      "source": [
        "# Повторно проверяем потребление памяти\n",
        "print(\"Потребление памяти после оптимизации:\", data.memory_usage(deep=True).sum() / 1024, \"KB\")"
      ],
      "metadata": {
        "colab": {
          "base_uri": "https://localhost:8080/"
        },
        "id": "W7QUTi3upj9N",
        "outputId": "85c9bfab-6dc3-40ec-a933-6975f70f569c"
      },
      "execution_count": 44,
      "outputs": [
        {
          "output_type": "stream",
          "name": "stdout",
          "text": [
            "Потребление памяти после оптимизации: 11.876953125 KB\n"
          ]
        }
      ]
    },
    {
      "cell_type": "markdown",
      "source": [
        "* Сокращение памяти за счет перехода к более эффективным типам данных.\n",
        "* Увеличение производительности последующих операций.\n",
        "* Удобная и быстрая подготовка данных для моделей машинного обучения и аналитики."
      ],
      "metadata": {
        "id": "_0fs5EICpBEO"
      }
    },
    {
      "cell_type": "markdown",
      "source": [
        "*Первоначальное потребление памяти: 251.72265625 KB*\n",
        "\n",
        "*Потребление памяти после оптимизации: 11.876953125 KB*"
      ],
      "metadata": {
        "id": "lI0JTToepsPl"
      }
    },
    {
      "cell_type": "markdown",
      "source": [
        "Замена типов данных позволила добиться значительной экономии памяти, что улучшило удобство работы с датафреймом и повысило производительность будущих операций."
      ],
      "metadata": {
        "id": "-HQebFYEp69_"
      }
    }
  ]
}