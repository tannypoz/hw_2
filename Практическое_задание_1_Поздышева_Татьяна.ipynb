{
  "nbformat": 4,
  "nbformat_minor": 0,
  "metadata": {
    "colab": {
      "provenance": []
    },
    "kernelspec": {
      "name": "python3",
      "display_name": "Python 3"
    },
    "language_info": {
      "name": "python"
    }
  },
  "cells": [
    {
      "cell_type": "code",
      "execution_count": null,
      "metadata": {
        "colab": {
          "base_uri": "https://localhost:8080/"
        },
        "id": "zTwnY5kzUCOd",
        "outputId": "aa8995e9-b42f-4c49-81da-4e6f8cc583fd"
      },
      "outputs": [
        {
          "output_type": "stream",
          "name": "stdout",
          "text": [
            "Обычный шоколадный батончик\n",
            "Шоколадный батончик, добавка: арахис\n",
            "Шоколадный батончик, 50.00 рублей\n",
            "Шоколадный батончик, 80.00 рублей\n",
            "Цена должна быть положительной\n"
          ]
        }
      ],
      "source": [
        "class Chocolate:\n",
        "    def __init__(self, price, addition=None):\n",
        "        \"\"\"\n",
        "        Конструктор класса Chocolate\n",
        "\n",
        "        :param price: Цена батончика (float)\n",
        "        :param addition: Добавка к шоколаду (str, необязательный аргумент)\n",
        "        \"\"\"\n",
        "        if price <= 0:\n",
        "            raise ValueError(\"Цена должна быть положительной\")\n",
        "        self.price = price\n",
        "        self.addition = addition\n",
        "\n",
        "    def show_my_chocolate(self):\n",
        "        \"\"\"Вывод описания батончика\"\"\"\n",
        "        if self.addition is not None:\n",
        "            print(f\"Шоколадный батончик, добавка: {self.addition}\")\n",
        "        else:\n",
        "            print(\"Обычный шоколадный батончик\")\n",
        "\n",
        "    def __str__(self):\n",
        "        \"\"\"Метод __str__ для удобного отображения информации о батончике\"\"\"\n",
        "        return f\"Шоколадный батончик, {self.price:.2f} рублей\"\n",
        "\n",
        "# Пример\n",
        "\n",
        "choco1 = Chocolate(50.0)\n",
        "choco2 = Chocolate(80.0, \"арахис\")\n",
        "\n",
        "# Проверяем работу метода show_my_chocolate()\n",
        "choco1.show_my_chocolate()   # Вывод: Обычный шоколадный батончик\n",
        "choco2.show_my_chocolate()   # Вывод: Шоколадный батончик, добавка: арахис\n",
        "\n",
        "# Проверяем переопределённый метод __str__()\n",
        "print(choco1)                 # Вывод: Шоколадный батончик, 50.00 рублей\n",
        "print(choco2)                 # Вывод: Шоколадный батончик, 80.00 рублей\n",
        "\n",
        "# Проверяем обработку исключений\n",
        "try:\n",
        "    choco3 = Chocolate(-10.0)\n",
        "except ValueError as e:\n",
        "    print(e)                  # Вывод: Цена должна быть положительной"
      ]
    }
  ]
}